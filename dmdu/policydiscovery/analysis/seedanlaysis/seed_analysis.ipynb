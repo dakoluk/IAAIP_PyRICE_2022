{
 "cells": [
  {
   "cell_type": "markdown",
   "source": [
    "# Seed Analysis\n",
    "\n",
    "In this notebook, we load the Pareto-optimal policies for each problem formulation per seed and compare whether the resulting pathways differ or not between the seeds."
   ],
   "metadata": {
    "collapsed": false,
    "pycharm": {
     "name": "#%% md\n"
    }
   }
  },
  {
   "cell_type": "code",
   "execution_count": 1,
   "outputs": [],
   "source": [
    "import os\n",
    "import pandas as pd\n",
    "from ema_workbench import load_results\n",
    "from dmdu.general.visualization import plot_kpi_pathways_with_seeds, Orientation"
   ],
   "metadata": {
    "collapsed": false,
    "pycharm": {
     "name": "#%%\n"
    }
   }
  },
  {
   "cell_type": "markdown",
   "source": [
    "## Identify existing files from experiments with Pareto-optimal policies"
   ],
   "metadata": {
    "collapsed": false,
    "pycharm": {
     "name": "#%% md\n"
    }
   }
  },
  {
   "cell_type": "code",
   "execution_count": 2,
   "outputs": [
    {
     "data": {
      "text/plain": "['PRIORITARIAN_DISAGGREGATED_seed_0',\n 'PRIORITARIAN_DISAGGREGATED_seed_1',\n 'PRIORITARIAN_AGGREGATED_seed_1',\n 'PRIORITARIAN_AGGREGATED_seed_0']"
     },
     "execution_count": 2,
     "metadata": {},
     "output_type": "execute_result"
    }
   ],
   "source": [
    "target_directory = os.path.join(\n",
    "    os.path.dirname(os.path.dirname(os.getcwd())),\n",
    "    'data',\n",
    "    'experiments'\n",
    ")\n",
    "files = os.listdir(target_directory)\n",
    "files"
   ],
   "metadata": {
    "collapsed": false,
    "pycharm": {
     "name": "#%%\n"
    }
   }
  },
  {
   "cell_type": "markdown",
   "source": [
    "## Load all results in appropriate form"
   ],
   "metadata": {
    "collapsed": false,
    "pycharm": {
     "name": "#%% md\n"
    }
   }
  },
  {
   "cell_type": "code",
   "execution_count": 3,
   "outputs": [],
   "source": [
    "seeds_dict = {}\n",
    "problem_formulations = {}\n",
    "\n",
    "for file in files:\n",
    "\n",
    "    # Define path to load data from\n",
    "    path = os.path.join(target_directory, file)\n",
    "\n",
    "    # Splitting terms\n",
    "    terms = file.split('_')\n",
    "    problem_formulation = terms[0] + '_' + terms[1]\n",
    "    seed_idx = terms[-1]\n",
    "\n",
    "    # Load results\n",
    "    experiments, outcomes = load_results(path)\n",
    "    outcomes = pd.DataFrame(outcomes)\n",
    "\n",
    "    # Save data\n",
    "    seeds_dict[seed_idx] = experiments, outcomes\n",
    "    problem_formulations[problem_formulation] = seeds_dict"
   ],
   "metadata": {
    "collapsed": false,
    "pycharm": {
     "name": "#%%\n"
    }
   }
  },
  {
   "cell_type": "markdown",
   "source": [
    "## Visualization of KPI pathways grouped by seed"
   ],
   "metadata": {
    "collapsed": false,
    "pycharm": {
     "name": "#%% md\n"
    }
   }
  },
  {
   "cell_type": "code",
   "execution_count": null,
   "outputs": [],
   "source": [
    "orientation = Orientation.HORIZONTAL\n",
    "name_orientation = orientation.name.lower()\n",
    "\n",
    "for problem_formulation, seeds_dict in problem_formulations.items():\n",
    "    plot_kpi_pathways_with_seeds(\n",
    "        seeds_dict=seeds_dict,\n",
    "        problem_formulation=problem_formulation,\n",
    "        plot_orientation=orientation,\n",
    "        saving=True,\n",
    "        file_name=f'seed_analysis_{problem_formulation}_{name_orientation}_test.png'\n",
    "    )"
   ],
   "metadata": {
    "collapsed": false,
    "pycharm": {
     "name": "#%%\n",
     "is_executing": true
    }
   }
  }
 ],
 "metadata": {
  "kernelspec": {
   "name": "pycharm-2517ad8d",
   "language": "python",
   "display_name": "PyCharm (md_final)"
  },
  "language_info": {
   "codemirror_mode": {
    "name": "ipython",
    "version": 2
   },
   "file_extension": ".py",
   "mimetype": "text/x-python",
   "name": "python",
   "nbconvert_exporter": "python",
   "pygments_lexer": "ipython2",
   "version": "2.7.6"
  }
 },
 "nbformat": 4,
 "nbformat_minor": 0
}