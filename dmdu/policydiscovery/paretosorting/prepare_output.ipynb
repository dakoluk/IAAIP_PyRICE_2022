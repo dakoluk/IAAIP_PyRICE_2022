{
 "cells": [
  {
   "cell_type": "markdown",
   "source": [
    "# Prepare outputs\n",
    "\n",
    "We aggregate the Pareto-optimal solutions across the problem formulations."
   ],
   "metadata": {
    "collapsed": false,
    "pycharm": {
     "name": "#%% md\n"
    }
   }
  },
  {
   "cell_type": "code",
   "execution_count": 1,
   "outputs": [],
   "source": [
    "import pandas as pd\n",
    "\n",
    "from model.enumerations import ProblemFormulation\n",
    "import os\n",
    "\n",
    "data_directory = os.path.join(\n",
    "    os.getcwd(),\n",
    "    'data'\n",
    ")\n"
   ],
   "metadata": {
    "collapsed": false,
    "pycharm": {
     "name": "#%%\n"
    }
   }
  },
  {
   "cell_type": "markdown",
   "source": [
    "Which optimizations had to be reduced (see what's in the 'output' folder)\n"
   ],
   "metadata": {
    "collapsed": false,
    "pycharm": {
     "name": "#%% md\n"
    }
   }
  },
  {
   "cell_type": "code",
   "execution_count": 2,
   "outputs": [],
   "source": [
    "problem_formulations_dict = {\n",
    "    # ProblemFormulation.UTILITARIAN_AGGREGATED: [],\n",
    "    # ProblemFormulation.UTILITARIAN_DISAGGREGATED: [0, 1, 2, 3],\n",
    "    # ProblemFormulation.SUFFICIENTARIAN_AGGREGATED: [3],\n",
    "    # ProblemFormulation.SUFFICIENTARIAN_DISAGGREGATED: [0, 1, 2, 3],\n",
    "    # ProblemFormulation.EGALITARIAN_AGGREGATED: [0, 1, 2, 3],\n",
    "    # ProblemFormulation.EGALITARIAN_DISAGGREGATED: [0, 1, 2],\n",
    "    ProblemFormulation.PRIORITARIAN_AGGREGATED: [3],\n",
    "    ProblemFormulation.PRIORITARIAN_DISAGGREGATED: [0, 1, 2, 3],\n",
    "}"
   ],
   "metadata": {
    "collapsed": false,
    "pycharm": {
     "name": "#%%\n"
    }
   }
  },
  {
   "cell_type": "markdown",
   "source": [
    "Which problem formulation has which columns"
   ],
   "metadata": {
    "collapsed": false,
    "pycharm": {
     "name": "#%% md\n"
    }
   }
  },
  {
   "cell_type": "code",
   "execution_count": 3,
   "outputs": [],
   "source": [
    "columns_dict = {\n",
    "    # ProblemFormulation.UTILITARIAN_AGGREGATED: list(pd.read_csv(os.path.join(data_directory, 'input', f'{ProblemFormulation.UTILITARIAN_AGGREGATED.name}_0.csv')).columns),\n",
    "    # ProblemFormulation.UTILITARIAN_DISAGGREGATED: list(pd.read_csv(os.path.join(data_directory, 'input', f'{ProblemFormulation.UTILITARIAN_DISAGGREGATED.name}_0.csv')).columns),\n",
    "    # ProblemFormulation.SUFFICIENTARIAN_AGGREGATED: list(pd.read_csv(os.path.join(data_directory, 'input', f'{ProblemFormulation.SUFFICIENTARIAN_AGGREGATED.name}_0.csv')).columns),\n",
    "    # ProblemFormulation.SUFFICIENTARIAN_DISAGGREGATED: list(pd.read_csv(os.path.join(data_directory, 'input', f'{ProblemFormulation.SUFFICIENTARIAN_DISAGGREGATED.name}_0.csv')).columns),\n",
    "    # ProblemFormulation.EGALITARIAN_AGGREGATED: list(pd.read_csv(os.path.join(data_directory, 'input', f'{ProblemFormulation.EGALITARIAN_AGGREGATED.name}_0.csv')).columns),\n",
    "    # ProblemFormulation.EGALITARIAN_DISAGGREGATED: list(pd.read_csv(os.path.join(data_directory, 'input', f'{ProblemFormulation.EGALITARIAN_DISAGGREGATED.name}_0.csv')).columns),\n",
    "    ProblemFormulation.PRIORITARIAN_AGGREGATED: list(pd.read_csv(os.path.join(data_directory, 'input', f'{ProblemFormulation.PRIORITARIAN_AGGREGATED.name}_0.csv')).columns),\n",
    "    ProblemFormulation.PRIORITARIAN_DISAGGREGATED: list(pd.read_csv(os.path.join(data_directory, 'input', f'{ProblemFormulation.PRIORITARIAN_DISAGGREGATED.name}_0.csv')).columns),\n",
    "}"
   ],
   "metadata": {
    "collapsed": false,
    "pycharm": {
     "name": "#%%\n"
    }
   }
  },
  {
   "cell_type": "markdown",
   "source": [
    "Merge the DataFrames"
   ],
   "metadata": {
    "collapsed": false,
    "pycharm": {
     "name": "#%% md\n"
    }
   }
  },
  {
   "cell_type": "code",
   "execution_count": 4,
   "outputs": [],
   "source": [
    "for problem_formulation, sorted_indices in problem_formulations_dict.items():\n",
    "\n",
    "    # Setting up a DataFrame with the right columns\n",
    "    df_main = pd.DataFrame(columns=columns_dict[problem_formulation])\n",
    "\n",
    "    if problem_formulation == ProblemFormulation.EGALITARIAN_DISAGGREGATED:\n",
    "        all_numbers = [0, 1, 2]\n",
    "    else:\n",
    "        all_numbers = [0, 1, 2, 3]\n",
    "\n",
    "    unsorted_indices = list(set(all_numbers) - set(sorted_indices))\n",
    "\n",
    "    for i in sorted_indices:\n",
    "        directory = os.path.join(\n",
    "            data_directory,\n",
    "            'output',\n",
    "            f'sorted_{problem_formulation.name}_{i}.csv'\n",
    "        )\n",
    "        df = pd.read_csv(directory)\n",
    "        df.columns = columns_dict[problem_formulation]\n",
    "        df_main = pd.concat([df_main, df])\n",
    "\n",
    "    for i in unsorted_indices:\n",
    "        directory = os.path.join(\n",
    "            data_directory,\n",
    "            'input',\n",
    "            f'{problem_formulation.name}_{i}.csv'\n",
    "        )\n",
    "        df = pd.read_csv(directory)\n",
    "        df.columns = columns_dict[problem_formulation]\n",
    "        df_main = pd.concat([df_main, df])\n",
    "\n",
    "    saving_directory = os.path.join(\n",
    "        data_directory,\n",
    "        'final',\n",
    "        f'sorted_{problem_formulation.name}.csv'\n",
    "    )\n",
    "    df_main.to_csv(saving_directory)"
   ],
   "metadata": {
    "collapsed": false,
    "pycharm": {
     "name": "#%%\n"
    }
   }
  },
  {
   "cell_type": "code",
   "execution_count": 4,
   "outputs": [],
   "source": [],
   "metadata": {
    "collapsed": false,
    "pycharm": {
     "name": "#%%\n"
    }
   }
  }
 ],
 "metadata": {
  "kernelspec": {
   "name": "pycharm-2517ad8d",
   "language": "python",
   "display_name": "PyCharm (md_final)"
  },
  "language_info": {
   "codemirror_mode": {
    "name": "ipython",
    "version": 2
   },
   "file_extension": ".py",
   "mimetype": "text/x-python",
   "name": "python",
   "nbconvert_exporter": "python",
   "pygments_lexer": "ipython2",
   "version": "2.7.6"
  }
 },
 "nbformat": 4,
 "nbformat_minor": 0
}