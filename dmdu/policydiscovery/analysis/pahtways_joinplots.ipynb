{
 "cells": [
  {
   "cell_type": "markdown",
   "source": [
    "# Visualizations of Pathways\n",
    "\n",
    "This notebook is used to create visualizations on the pathways given the selected policies and the four reference scenarios.\n",
    "\n",
    "## Imports"
   ],
   "metadata": {
    "collapsed": false,
    "pycharm": {
     "name": "#%% md\n"
    }
   }
  },
  {
   "cell_type": "code",
   "execution_count": 8,
   "outputs": [],
   "source": [
    "from dmdu.general.visualization import plot_one_pathway, plot_one_pathway_attempt\n",
    "\n",
    "from model.enumerations import ProblemFormulation\n",
    "import os\n",
    "import pandas as pd\n",
    "from ema_workbench import load_results"
   ],
   "metadata": {
    "collapsed": false,
    "pycharm": {
     "name": "#%%\n"
    }
   }
  },
  {
   "cell_type": "markdown",
   "source": [
    "## Directory\n"
   ],
   "metadata": {
    "collapsed": false,
    "pycharm": {
     "name": "#%% md\n"
    }
   }
  },
  {
   "cell_type": "code",
   "execution_count": 9,
   "outputs": [],
   "source": [
    "target_directory = os.path.join(\n",
    "    os.path.dirname(os.getcwd()),\n",
    "    'data',\n",
    "    # 'experimentsextensive'\n",
    "    'experiments_bad'\n",
    "\n",
    ")"
   ],
   "metadata": {
    "collapsed": false,
    "pycharm": {
     "name": "#%%\n"
    }
   }
  },
  {
   "cell_type": "markdown",
   "source": [
    "## Parameters"
   ],
   "metadata": {
    "collapsed": false,
    "pycharm": {
     "name": "#%% md\n"
    }
   }
  },
  {
   "cell_type": "code",
   "execution_count": 10,
   "outputs": [],
   "source": [
    "problem_formulations = [\n",
    "    ProblemFormulation.UTILITARIAN_AGGREGATED,\n",
    "    # ProblemFormulation.UTILITARIAN_DISAGGREGATED,\n",
    "    # ProblemFormulation.EGALITARIAN_AGGREGATED,\n",
    "    # ProblemFormulation.SUFFICIENTARIAN_DISAGGREGATED\n",
    "]\n",
    "\n",
    "n_references = 4\n",
    "n_seeds = 2\n",
    "\n",
    "problem_formulations_dict = {}"
   ],
   "metadata": {
    "collapsed": false,
    "pycharm": {
     "name": "#%%\n"
    }
   }
  },
  {
   "cell_type": "markdown",
   "source": [
    "## Load results"
   ],
   "metadata": {
    "collapsed": false,
    "pycharm": {
     "name": "#%% md\n"
    }
   }
  },
  {
   "cell_type": "code",
   "execution_count": 11,
   "outputs": [],
   "source": [
    "for problem_formulation in problem_formulations:\n",
    "\n",
    "    # Define path to load data from\n",
    "    file = f'results_{problem_formulation.name}'\n",
    "    path = os.path.join(target_directory, file)\n",
    "\n",
    "    # Load results\n",
    "    experiments, outcomes = load_results(path)\n",
    "    outcomes = pd.DataFrame(outcomes)\n",
    "\n",
    "    problem_formulations_dict[problem_formulation.name] = experiments, outcomes"
   ],
   "metadata": {
    "collapsed": false,
    "pycharm": {
     "name": "#%%\n"
    }
   }
  },
  {
   "cell_type": "markdown",
   "source": [
    "## Visualization: damages and atmospheric temperature increase"
   ],
   "metadata": {
    "collapsed": false,
    "pycharm": {
     "name": "#%% md\n"
    }
   }
  },
  {
   "cell_type": "code",
   "execution_count": 12,
   "outputs": [],
   "source": [
    "# ex, out = problem_formulations_dict[ProblemFormulation.UTILITARIAN_AGGREGATED.name]\n",
    "# outcome_name = 'Damages'\n",
    "#\n",
    "# plot_one_pathway(ex, out, outcome_name, saving=False, file_name=None)"
   ],
   "metadata": {
    "collapsed": false,
    "pycharm": {
     "name": "#%%\n"
    }
   }
  },
  {
   "cell_type": "code",
   "execution_count": 13,
   "outputs": [],
   "source": [
    "# ex, out = problem_formulations_dict[ProblemFormulation.UTILITARIAN_DISAGGREGATED.name]\n",
    "# outcome_name = 'Damages'\n",
    "#\n",
    "# plot_one_pathway(ex, out, outcome_name, saving=False, file_name=None)"
   ],
   "metadata": {
    "collapsed": false,
    "pycharm": {
     "name": "#%%\n"
    }
   }
  },
  {
   "cell_type": "code",
   "execution_count": 17,
   "outputs": [
    {
     "ename": "KeyError",
     "evalue": "'Damages'",
     "output_type": "error",
     "traceback": [
      "\u001B[0;31m---------------------------------------------------------------------------\u001B[0m",
      "\u001B[0;31mKeyError\u001B[0m                                  Traceback (most recent call last)",
      "Input \u001B[0;32mIn [17]\u001B[0m, in \u001B[0;36m<cell line: 4>\u001B[0;34m()\u001B[0m\n\u001B[1;32m      1\u001B[0m \u001B[38;5;66;03m# ex, out = problem_formulations_dict[ProblemFormulation.UTILITARIAN_DISAGGREGATED.name]\u001B[39;00m\n\u001B[1;32m      2\u001B[0m outcome_name \u001B[38;5;241m=\u001B[39m \u001B[38;5;124m'\u001B[39m\u001B[38;5;124mDamages\u001B[39m\u001B[38;5;124m'\u001B[39m\n\u001B[0;32m----> 4\u001B[0m \u001B[43mplot_one_pathway_attempt\u001B[49m\u001B[43m(\u001B[49m\u001B[43mproblem_formulations_dict\u001B[49m\u001B[43m,\u001B[49m\u001B[43m \u001B[49m\u001B[43moutcome_name\u001B[49m\u001B[43m,\u001B[49m\u001B[43m \u001B[49m\u001B[43msaving\u001B[49m\u001B[38;5;241;43m=\u001B[39;49m\u001B[38;5;28;43;01mFalse\u001B[39;49;00m\u001B[43m,\u001B[49m\u001B[43m \u001B[49m\u001B[43mfile_name\u001B[49m\u001B[38;5;241;43m=\u001B[39;49m\u001B[38;5;28;43;01mNone\u001B[39;49;00m\u001B[43m)\u001B[49m\n",
      "File \u001B[0;32m~/PycharmProjects/PyRICE_2022/dmdu/general/visualization.py:1050\u001B[0m, in \u001B[0;36mplot_one_pathway_attempt\u001B[0;34m(problem_formulation_dict, outcome_name, saving, file_name)\u001B[0m\n\u001B[1;32m   1044\u001B[0m         all_outcomes \u001B[38;5;241m=\u001B[39m pd\u001B[38;5;241m.\u001B[39mconcat([all_outcomes, outcomes])\n\u001B[1;32m   1046\u001B[0m reshaphed_outcomes \u001B[38;5;241m=\u001B[39m get_outcomes_reshaped(\n\u001B[1;32m   1047\u001B[0m     outcomes_df\u001B[38;5;241m=\u001B[39mall_outcomes, objective_names\u001B[38;5;241m=\u001B[39m[outcome_name]\n\u001B[1;32m   1048\u001B[0m )\n\u001B[0;32m-> 1050\u001B[0m fig, axes \u001B[38;5;241m=\u001B[39m \u001B[43mplotting\u001B[49m\u001B[38;5;241;43m.\u001B[39;49m\u001B[43mlines\u001B[49m\u001B[43m(\u001B[49m\n\u001B[1;32m   1051\u001B[0m \u001B[43m    \u001B[49m\u001B[43mexperiments\u001B[49m\u001B[38;5;241;43m=\u001B[39;49m\u001B[43mall_experiments\u001B[49m\u001B[43m,\u001B[49m\n\u001B[1;32m   1052\u001B[0m \u001B[43m    \u001B[49m\u001B[43moutcomes\u001B[49m\u001B[38;5;241;43m=\u001B[39;49m\u001B[43mreshaphed_outcomes\u001B[49m\u001B[43m,\u001B[49m\n\u001B[1;32m   1053\u001B[0m \u001B[43m    \u001B[49m\u001B[43moutcomes_to_show\u001B[49m\u001B[38;5;241;43m=\u001B[39;49m\u001B[43moutcome_name\u001B[49m\u001B[43m,\u001B[49m\n\u001B[1;32m   1054\u001B[0m \u001B[43m    \u001B[49m\u001B[43mgroup_by\u001B[49m\u001B[38;5;241;43m=\u001B[39;49m\u001B[38;5;124;43m'\u001B[39;49m\u001B[38;5;124;43mProblem Formulation\u001B[39;49m\u001B[38;5;124;43m'\u001B[39;49m\u001B[43m,\u001B[49m\n\u001B[1;32m   1055\u001B[0m \u001B[43m    \u001B[49m\u001B[43mdensity\u001B[49m\u001B[38;5;241;43m=\u001B[39;49m\u001B[43mDensity\u001B[49m\u001B[38;5;241;43m.\u001B[39;49m\u001B[43mBOXPLOT\u001B[49m\u001B[43m,\u001B[49m\n\u001B[1;32m   1056\u001B[0m \u001B[43m\u001B[49m\u001B[43m)\u001B[49m\n\u001B[1;32m   1057\u001B[0m fig\u001B[38;5;241m.\u001B[39mset_size_inches(\u001B[38;5;241m12\u001B[39m, \u001B[38;5;241m8\u001B[39m)\n\u001B[1;32m   1058\u001B[0m plt\u001B[38;5;241m.\u001B[39mshow()\n",
      "File \u001B[0;32m/Library/Frameworks/Python.framework/Versions/3.9/lib/python3.9/site-packages/ema_workbench/analysis/plotting.py:360\u001B[0m, in \u001B[0;36mlines\u001B[0;34m(experiments, outcomes, outcomes_to_show, group_by, grouping_specifiers, density, legend, titles, ylabels, experiments_to_show, show_envelope, log)\u001B[0m\n\u001B[1;32m    345\u001B[0m \u001B[38;5;28;01mif\u001B[39;00m show_envelope:\n\u001B[1;32m    346\u001B[0m     \u001B[38;5;28;01mreturn\u001B[39;00m plot_lines_with_envelopes(\n\u001B[1;32m    347\u001B[0m         experiments,\n\u001B[1;32m    348\u001B[0m         outcomes,\n\u001B[0;32m   (...)\u001B[0m\n\u001B[1;32m    357\u001B[0m         log\u001B[38;5;241m=\u001B[39mlog,\n\u001B[1;32m    358\u001B[0m     )\n\u001B[0;32m--> 360\u001B[0m data \u001B[38;5;241m=\u001B[39m \u001B[43mprepare_data\u001B[49m\u001B[43m(\u001B[49m\n\u001B[1;32m    361\u001B[0m \u001B[43m    \u001B[49m\u001B[43mexperiments\u001B[49m\u001B[43m,\u001B[49m\n\u001B[1;32m    362\u001B[0m \u001B[43m    \u001B[49m\u001B[43mexperiments_to_show\u001B[49m\u001B[43m,\u001B[49m\n\u001B[1;32m    363\u001B[0m \u001B[43m    \u001B[49m\u001B[43moutcomes\u001B[49m\u001B[43m,\u001B[49m\n\u001B[1;32m    364\u001B[0m \u001B[43m    \u001B[49m\u001B[43moutcomes_to_show\u001B[49m\u001B[43m,\u001B[49m\n\u001B[1;32m    365\u001B[0m \u001B[43m    \u001B[49m\u001B[43mgroup_by\u001B[49m\u001B[43m,\u001B[49m\n\u001B[1;32m    366\u001B[0m \u001B[43m    \u001B[49m\u001B[43mgrouping_specifiers\u001B[49m\u001B[43m,\u001B[49m\n\u001B[1;32m    367\u001B[0m \u001B[43m\u001B[49m\u001B[43m)\u001B[49m\n\u001B[1;32m    368\u001B[0m experiments, outcomes, outcomes_to_show, time, grouping_labels \u001B[38;5;241m=\u001B[39m data\n\u001B[1;32m    370\u001B[0m figure, grid \u001B[38;5;241m=\u001B[39m make_grid(outcomes_to_show, density)\n",
      "File \u001B[0;32m/Library/Frameworks/Python.framework/Versions/3.9/lib/python3.9/site-packages/ema_workbench/analysis/plotting_util.py:767\u001B[0m, in \u001B[0;36mprepare_data\u001B[0;34m(experiments, experiments_to_show, outcomes, outcomes_to_show, group_by, grouping_specifiers, filter_scalar)\u001B[0m\n\u001B[1;32m    764\u001B[0m         outcomes_to_show \u001B[38;5;241m=\u001B[39m [outcomes_to_show]\n\u001B[1;32m    766\u001B[0m     \u001B[38;5;28;01mfor\u001B[39;00m entry \u001B[38;5;129;01min\u001B[39;00m outcomes_to_show:\n\u001B[0;32m--> 767\u001B[0m         temp_outcomes[entry] \u001B[38;5;241m=\u001B[39m \u001B[43moutcomes\u001B[49m\u001B[43m[\u001B[49m\u001B[43mentry\u001B[49m\u001B[43m]\u001B[49m\n\u001B[1;32m    768\u001B[0m     outcomes \u001B[38;5;241m=\u001B[39m temp_outcomes\n\u001B[1;32m    770\u001B[0m \u001B[38;5;66;03m# filter the outcomes to exclude scalar values\u001B[39;00m\n",
      "\u001B[0;31mKeyError\u001B[0m: 'Damages'"
     ]
    }
   ],
   "source": [
    "# ex, out = problem_formulations_dict[ProblemFormulation.UTILITARIAN_DISAGGREGATED.name]\n",
    "outcome_name = 'Damages'\n",
    "\n",
    "plot_one_pathway_attempt(problem_formulations_dict, outcome_name, saving=False, file_name=None)"
   ],
   "metadata": {
    "collapsed": false,
    "pycharm": {
     "name": "#%%\n"
    }
   }
  },
  {
   "cell_type": "code",
   "execution_count": null,
   "outputs": [],
   "source": [
    "# ex, out = problem_formulations_dict[ProblemFormulation.UTILITARIAN_DISAGGREGATED.name]\n",
    "outcome_name = 'Total Output'\n",
    "\n",
    "plot_one_pathway_attempt(problem_formulations_dict, outcome_name, saving=False, file_name=None)"
   ],
   "metadata": {
    "collapsed": false,
    "pycharm": {
     "name": "#%%\n"
    }
   }
  },
  {
   "cell_type": "code",
   "execution_count": null,
   "outputs": [],
   "source": [
    "# ex, out = problem_formulations_dict[ProblemFormulation.UTILITARIAN_DISAGGREGATED.name]\n",
    "outcome_name = 'Atmospheric Temperature'\n",
    "\n",
    "plot_one_pathway_attempt(problem_formulations_dict, outcome_name, saving=False, file_name=None)"
   ],
   "metadata": {
    "collapsed": false,
    "pycharm": {
     "name": "#%%\n"
    }
   }
  },
  {
   "cell_type": "code",
   "execution_count": null,
   "outputs": [],
   "source": [],
   "metadata": {
    "collapsed": false,
    "pycharm": {
     "name": "#%%\n"
    }
   }
  }
 ],
 "metadata": {
  "kernelspec": {
   "name": "pycharm-2517ad8d",
   "language": "python",
   "display_name": "PyCharm (md_final)"
  },
  "language_info": {
   "codemirror_mode": {
    "name": "ipython",
    "version": 2
   },
   "file_extension": ".py",
   "mimetype": "text/x-python",
   "name": "python",
   "nbconvert_exporter": "python",
   "pygments_lexer": "ipython2",
   "version": "2.7.6"
  }
 },
 "nbformat": 4,
 "nbformat_minor": 0
}