{
 "cells": [
  {
   "cell_type": "markdown",
   "source": [
    "# Pareto Fronts\n",
    "\n",
    "For UD and SD"
   ],
   "metadata": {
    "collapsed": false,
    "pycharm": {
     "name": "#%% md\n"
    }
   }
  },
  {
   "cell_type": "code",
   "execution_count": 1,
   "outputs": [],
   "source": [
    "from model.enumerations import ProblemFormulation\n",
    "import os\n",
    "import pandas as pd\n",
    "\n",
    "directory = os.path.join(\n",
    "    os.path.dirname(os.getcwd()),\n",
    "    'paretosorting',\n",
    "    'data',\n",
    "    'final',\n",
    ")\n",
    "\n",
    "outcome_names = [\n",
    "    'Utility 2105',\n",
    "    'Disutility 2105',\n",
    "    'Temperature overshoot 2105'\n",
    "]"
   ],
   "metadata": {
    "collapsed": false,
    "pycharm": {
     "name": "#%%\n"
    }
   }
  },
  {
   "cell_type": "markdown",
   "source": [
    "## Load Policies and their objectives"
   ],
   "metadata": {
    "collapsed": false,
    "pycharm": {
     "name": "#%% md\n"
    }
   }
  },
  {
   "cell_type": "code",
   "execution_count": 3,
   "outputs": [
    {
     "data": {
      "text/plain": "    Unnamed: 0.1  Unnamed: 0        sr          miu  irstp_consumption  \\\n0              0           0  0.242737  2164.887414              0.001   \n1              1           1  0.248423  2065.000000              0.001   \n2              0           0  0.247367  2065.000000              0.001   \n3              1           1  0.239465  2065.000000              0.001   \n4              2           2  0.247367  2065.000000              0.001   \n5              3           3  0.239465  2065.000000              0.001   \n6              0           0  0.247207  2065.000000              0.001   \n7              1           1  0.247206  2065.000000              0.001   \n8              0           0  0.248463  2065.000000              0.001   \n9              1           1  0.243389  2186.743772              0.001   \n10             2           2  0.248463  2065.000000              0.001   \n11             3           3  0.243389  2186.743530              0.001   \n\n    irstp_damage  Utility 2105  Temperature overshoot 2105  \n0       0.013783  10006.376844                         7.0  \n1       0.001848  10007.578787                         7.0  \n2       0.007348  10126.852336                         6.0  \n3       0.006550  10126.459583                         5.0  \n4       0.008662  10126.852336                         6.0  \n5       0.007230  10126.459583                         5.0  \n6       0.001556  10112.338888                         6.0  \n7       0.004463  10112.338888                         6.0  \n8       0.011826  10034.489671                         6.0  \n9       0.004143  10054.902494                         7.0  \n10      0.008165  10034.489671                         6.0  \n11      0.001697  10054.902494                         7.0  ",
      "text/html": "<div>\n<style scoped>\n    .dataframe tbody tr th:only-of-type {\n        vertical-align: middle;\n    }\n\n    .dataframe tbody tr th {\n        vertical-align: top;\n    }\n\n    .dataframe thead th {\n        text-align: right;\n    }\n</style>\n<table border=\"1\" class=\"dataframe\">\n  <thead>\n    <tr style=\"text-align: right;\">\n      <th></th>\n      <th>Unnamed: 0.1</th>\n      <th>Unnamed: 0</th>\n      <th>sr</th>\n      <th>miu</th>\n      <th>irstp_consumption</th>\n      <th>irstp_damage</th>\n      <th>Utility 2105</th>\n      <th>Temperature overshoot 2105</th>\n    </tr>\n  </thead>\n  <tbody>\n    <tr>\n      <th>0</th>\n      <td>0</td>\n      <td>0</td>\n      <td>0.242737</td>\n      <td>2164.887414</td>\n      <td>0.001</td>\n      <td>0.013783</td>\n      <td>10006.376844</td>\n      <td>7.0</td>\n    </tr>\n    <tr>\n      <th>1</th>\n      <td>1</td>\n      <td>1</td>\n      <td>0.248423</td>\n      <td>2065.000000</td>\n      <td>0.001</td>\n      <td>0.001848</td>\n      <td>10007.578787</td>\n      <td>7.0</td>\n    </tr>\n    <tr>\n      <th>2</th>\n      <td>0</td>\n      <td>0</td>\n      <td>0.247367</td>\n      <td>2065.000000</td>\n      <td>0.001</td>\n      <td>0.007348</td>\n      <td>10126.852336</td>\n      <td>6.0</td>\n    </tr>\n    <tr>\n      <th>3</th>\n      <td>1</td>\n      <td>1</td>\n      <td>0.239465</td>\n      <td>2065.000000</td>\n      <td>0.001</td>\n      <td>0.006550</td>\n      <td>10126.459583</td>\n      <td>5.0</td>\n    </tr>\n    <tr>\n      <th>4</th>\n      <td>2</td>\n      <td>2</td>\n      <td>0.247367</td>\n      <td>2065.000000</td>\n      <td>0.001</td>\n      <td>0.008662</td>\n      <td>10126.852336</td>\n      <td>6.0</td>\n    </tr>\n    <tr>\n      <th>5</th>\n      <td>3</td>\n      <td>3</td>\n      <td>0.239465</td>\n      <td>2065.000000</td>\n      <td>0.001</td>\n      <td>0.007230</td>\n      <td>10126.459583</td>\n      <td>5.0</td>\n    </tr>\n    <tr>\n      <th>6</th>\n      <td>0</td>\n      <td>0</td>\n      <td>0.247207</td>\n      <td>2065.000000</td>\n      <td>0.001</td>\n      <td>0.001556</td>\n      <td>10112.338888</td>\n      <td>6.0</td>\n    </tr>\n    <tr>\n      <th>7</th>\n      <td>1</td>\n      <td>1</td>\n      <td>0.247206</td>\n      <td>2065.000000</td>\n      <td>0.001</td>\n      <td>0.004463</td>\n      <td>10112.338888</td>\n      <td>6.0</td>\n    </tr>\n    <tr>\n      <th>8</th>\n      <td>0</td>\n      <td>0</td>\n      <td>0.248463</td>\n      <td>2065.000000</td>\n      <td>0.001</td>\n      <td>0.011826</td>\n      <td>10034.489671</td>\n      <td>6.0</td>\n    </tr>\n    <tr>\n      <th>9</th>\n      <td>1</td>\n      <td>1</td>\n      <td>0.243389</td>\n      <td>2186.743772</td>\n      <td>0.001</td>\n      <td>0.004143</td>\n      <td>10054.902494</td>\n      <td>7.0</td>\n    </tr>\n    <tr>\n      <th>10</th>\n      <td>2</td>\n      <td>2</td>\n      <td>0.248463</td>\n      <td>2065.000000</td>\n      <td>0.001</td>\n      <td>0.008165</td>\n      <td>10034.489671</td>\n      <td>6.0</td>\n    </tr>\n    <tr>\n      <th>11</th>\n      <td>3</td>\n      <td>3</td>\n      <td>0.243389</td>\n      <td>2186.743530</td>\n      <td>0.001</td>\n      <td>0.001697</td>\n      <td>10054.902494</td>\n      <td>7.0</td>\n    </tr>\n  </tbody>\n</table>\n</div>"
     },
     "execution_count": 3,
     "metadata": {},
     "output_type": "execute_result"
    }
   ],
   "source": [
    "pf = ProblemFormulation.UTILITARIAN_AGGREGATED\n",
    "df_UD = pd.read_csv(os.path.join(directory, f'sorted_{pf.name}.csv'))\n",
    "df_UD"
   ],
   "metadata": {
    "collapsed": false,
    "pycharm": {
     "name": "#%%\n"
    }
   }
  },
  {
   "cell_type": "code",
   "execution_count": 6,
   "outputs": [
    {
     "data": {
      "text/plain": "    Unnamed: 0.1  Unnamed: 0        sr          miu  irstp_consumption  \\\n0              0        3887  0.232308  2130.496484           0.010399   \n1              1        5398  0.219737  2107.532938           0.004802   \n2              2       17155  0.148177  2104.220740           0.012851   \n3              3       19864  0.127654  2065.090447           0.010987   \n4              4       20016  0.237310  2065.090447           0.008102   \n5              0        3539  0.234648  2065.063607           0.005178   \n6              1        8453  0.243928  2071.184790           0.003277   \n7              2       13027  0.143523  2070.166487           0.014549   \n8              0        6050  0.135518  2065.024286           0.009338   \n9              1        9291  0.241723  2065.019527           0.005346   \n10             2        9992  0.239246  2216.956836           0.003411   \n11             3       10714  0.226855  2220.900632           0.014564   \n\n    irstp_damage  Utility 2105  Disutility 2105  \\\n0       0.004353  11054.413002        59.889374   \n1       0.002814  11035.373312        56.987185   \n2       0.001628  10959.952080        53.967364   \n3       0.010731  10937.861498        44.986352   \n4       0.010731  11058.503171        47.824667   \n5       0.002389  11190.157281        22.577526   \n6       0.014382  11186.211002        23.769786   \n7       0.003058  11101.676960        20.983254   \n8       0.011463  11074.449905        20.991288   \n9       0.007667  11175.074921        23.974890   \n10      0.012910  11149.173989        36.439513   \n11      0.014897  11147.021566        35.967978   \n\n    Intratemporal consumption Gini 2105  Intratemporal damage Gini 2105  \\\n0                              0.286183                        0.546713   \n1                              0.285991                        0.549572   \n2                              0.283881                        0.549999   \n3                              0.282664                        0.562627   \n4                              0.285969                        0.564371   \n5                              0.284419                        0.578195   \n6                              0.284704                        0.574961   \n7                              0.281836                        0.574976   \n8                              0.281696                        0.570174   \n9                              0.284813                        0.570818   \n10                             0.285283                        0.549996   \n11                             0.284999                        0.549962   \n\n    Temperature overshoot 2105  \n0                          7.0  \n1                          7.0  \n2                          7.0  \n3                          7.0  \n4                          7.0  \n5                          5.0  \n6                          6.0  \n7                          6.0  \n8                          6.0  \n9                          6.0  \n10                         6.0  \n11                         6.0  ",
      "text/html": "<div>\n<style scoped>\n    .dataframe tbody tr th:only-of-type {\n        vertical-align: middle;\n    }\n\n    .dataframe tbody tr th {\n        vertical-align: top;\n    }\n\n    .dataframe thead th {\n        text-align: right;\n    }\n</style>\n<table border=\"1\" class=\"dataframe\">\n  <thead>\n    <tr style=\"text-align: right;\">\n      <th></th>\n      <th>Unnamed: 0.1</th>\n      <th>Unnamed: 0</th>\n      <th>sr</th>\n      <th>miu</th>\n      <th>irstp_consumption</th>\n      <th>irstp_damage</th>\n      <th>Utility 2105</th>\n      <th>Disutility 2105</th>\n      <th>Intratemporal consumption Gini 2105</th>\n      <th>Intratemporal damage Gini 2105</th>\n      <th>Temperature overshoot 2105</th>\n    </tr>\n  </thead>\n  <tbody>\n    <tr>\n      <th>0</th>\n      <td>0</td>\n      <td>3887</td>\n      <td>0.232308</td>\n      <td>2130.496484</td>\n      <td>0.010399</td>\n      <td>0.004353</td>\n      <td>11054.413002</td>\n      <td>59.889374</td>\n      <td>0.286183</td>\n      <td>0.546713</td>\n      <td>7.0</td>\n    </tr>\n    <tr>\n      <th>1</th>\n      <td>1</td>\n      <td>5398</td>\n      <td>0.219737</td>\n      <td>2107.532938</td>\n      <td>0.004802</td>\n      <td>0.002814</td>\n      <td>11035.373312</td>\n      <td>56.987185</td>\n      <td>0.285991</td>\n      <td>0.549572</td>\n      <td>7.0</td>\n    </tr>\n    <tr>\n      <th>2</th>\n      <td>2</td>\n      <td>17155</td>\n      <td>0.148177</td>\n      <td>2104.220740</td>\n      <td>0.012851</td>\n      <td>0.001628</td>\n      <td>10959.952080</td>\n      <td>53.967364</td>\n      <td>0.283881</td>\n      <td>0.549999</td>\n      <td>7.0</td>\n    </tr>\n    <tr>\n      <th>3</th>\n      <td>3</td>\n      <td>19864</td>\n      <td>0.127654</td>\n      <td>2065.090447</td>\n      <td>0.010987</td>\n      <td>0.010731</td>\n      <td>10937.861498</td>\n      <td>44.986352</td>\n      <td>0.282664</td>\n      <td>0.562627</td>\n      <td>7.0</td>\n    </tr>\n    <tr>\n      <th>4</th>\n      <td>4</td>\n      <td>20016</td>\n      <td>0.237310</td>\n      <td>2065.090447</td>\n      <td>0.008102</td>\n      <td>0.010731</td>\n      <td>11058.503171</td>\n      <td>47.824667</td>\n      <td>0.285969</td>\n      <td>0.564371</td>\n      <td>7.0</td>\n    </tr>\n    <tr>\n      <th>5</th>\n      <td>0</td>\n      <td>3539</td>\n      <td>0.234648</td>\n      <td>2065.063607</td>\n      <td>0.005178</td>\n      <td>0.002389</td>\n      <td>11190.157281</td>\n      <td>22.577526</td>\n      <td>0.284419</td>\n      <td>0.578195</td>\n      <td>5.0</td>\n    </tr>\n    <tr>\n      <th>6</th>\n      <td>1</td>\n      <td>8453</td>\n      <td>0.243928</td>\n      <td>2071.184790</td>\n      <td>0.003277</td>\n      <td>0.014382</td>\n      <td>11186.211002</td>\n      <td>23.769786</td>\n      <td>0.284704</td>\n      <td>0.574961</td>\n      <td>6.0</td>\n    </tr>\n    <tr>\n      <th>7</th>\n      <td>2</td>\n      <td>13027</td>\n      <td>0.143523</td>\n      <td>2070.166487</td>\n      <td>0.014549</td>\n      <td>0.003058</td>\n      <td>11101.676960</td>\n      <td>20.983254</td>\n      <td>0.281836</td>\n      <td>0.574976</td>\n      <td>6.0</td>\n    </tr>\n    <tr>\n      <th>8</th>\n      <td>0</td>\n      <td>6050</td>\n      <td>0.135518</td>\n      <td>2065.024286</td>\n      <td>0.009338</td>\n      <td>0.011463</td>\n      <td>11074.449905</td>\n      <td>20.991288</td>\n      <td>0.281696</td>\n      <td>0.570174</td>\n      <td>6.0</td>\n    </tr>\n    <tr>\n      <th>9</th>\n      <td>1</td>\n      <td>9291</td>\n      <td>0.241723</td>\n      <td>2065.019527</td>\n      <td>0.005346</td>\n      <td>0.007667</td>\n      <td>11175.074921</td>\n      <td>23.974890</td>\n      <td>0.284813</td>\n      <td>0.570818</td>\n      <td>6.0</td>\n    </tr>\n    <tr>\n      <th>10</th>\n      <td>2</td>\n      <td>9992</td>\n      <td>0.239246</td>\n      <td>2216.956836</td>\n      <td>0.003411</td>\n      <td>0.012910</td>\n      <td>11149.173989</td>\n      <td>36.439513</td>\n      <td>0.285283</td>\n      <td>0.549996</td>\n      <td>6.0</td>\n    </tr>\n    <tr>\n      <th>11</th>\n      <td>3</td>\n      <td>10714</td>\n      <td>0.226855</td>\n      <td>2220.900632</td>\n      <td>0.014564</td>\n      <td>0.014897</td>\n      <td>11147.021566</td>\n      <td>35.967978</td>\n      <td>0.284999</td>\n      <td>0.549962</td>\n      <td>6.0</td>\n    </tr>\n  </tbody>\n</table>\n</div>"
     },
     "execution_count": 6,
     "metadata": {},
     "output_type": "execute_result"
    }
   ],
   "source": [
    "pf = ProblemFormulation.EGALITARIAN_DISAGGREGATED\n",
    "df_SD = pd.read_csv(os.path.join(directory, f'sorted_{pf.name}.csv'))\n",
    "df_SD"
   ],
   "metadata": {
    "collapsed": false,
    "pycharm": {
     "name": "#%%\n"
    }
   }
  },
  {
   "cell_type": "markdown",
   "source": [
    "## Visualization"
   ],
   "metadata": {
    "collapsed": false,
    "pycharm": {
     "name": "#%% md\n"
    }
   }
  },
  {
   "cell_type": "code",
   "execution_count": null,
   "outputs": [],
   "source": [
    "import matplotlib.pyplot as plt\n",
    "import seaborn as sns\n",
    "from mpl_toolkits.mplot3d import Axes3D\n",
    "\n",
    "# %matplotlib notebook\n",
    "\n",
    "sns.set(style = \"darkgrid\")\n",
    "sns.set(rc={'figure.figsize': (5, 5)})\n",
    "\n",
    "# fig = plt.figure()\n",
    "# ax = Axes3D(fig, auto_add_to_figure=False)\n",
    "# fig.add_axes(ax)\n",
    "#\n",
    "# x, y, z = (df_UD[name] for name in outcome_names)\n",
    "#\n",
    "# ax.set_xlabel(outcome_names[0])\n",
    "# ax.set_ylabel(outcome_names[1])\n",
    "# ax.set_zlabel(outcome_names[2])\n",
    "#\n",
    "# ax.scatter(x, y, z)\n",
    "#\n",
    "# plt.show()"
   ],
   "metadata": {
    "collapsed": false,
    "pycharm": {
     "name": "#%%\n"
    }
   }
  },
  {
   "cell_type": "code",
   "execution_count": null,
   "outputs": [],
   "source": [
    "sns.scatterplot(x=df_UD['Utility 2105'], y=df_UD['Temperature overshoot 2105'])\n",
    "plt.show()"
   ],
   "metadata": {
    "collapsed": false,
    "pycharm": {
     "name": "#%%\n"
    }
   }
  },
  {
   "cell_type": "code",
   "execution_count": null,
   "outputs": [],
   "source": [],
   "metadata": {
    "collapsed": false,
    "pycharm": {
     "name": "#%%\n"
    }
   }
  }
 ],
 "metadata": {
  "kernelspec": {
   "name": "pycharm-2517ad8d",
   "language": "python",
   "display_name": "PyCharm (md_final)"
  },
  "language_info": {
   "codemirror_mode": {
    "name": "ipython",
    "version": 2
   },
   "file_extension": ".py",
   "mimetype": "text/x-python",
   "name": "python",
   "nbconvert_exporter": "python",
   "pygments_lexer": "ipython2",
   "version": "2.7.6"
  }
 },
 "nbformat": 4,
 "nbformat_minor": 0
}